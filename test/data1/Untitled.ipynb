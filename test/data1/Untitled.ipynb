{
 "cells": [
  {
   "cell_type": "code",
   "execution_count": 1,
   "id": "421ed6b1-3d79-4524-9dea-e3ef671613ba",
   "metadata": {
    "tags": []
   },
   "outputs": [],
   "source": [
    "from gzip import open as gzopen"
   ]
  },
  {
   "cell_type": "code",
   "execution_count": 2,
   "id": "bb927dfe-2418-4195-87b3-f97e06cce1e4",
   "metadata": {
    "tags": []
   },
   "outputs": [],
   "source": [
    "from pathlib import Path"
   ]
  },
  {
   "cell_type": "code",
   "execution_count": 3,
   "id": "04ef0abc-c750-47eb-9bc6-5163bdfcf115",
   "metadata": {
    "tags": []
   },
   "outputs": [],
   "source": [
    "r1_file = Path(\"/Users/milessmith/workspace/asap_o_matic/test/data1/test1_S1_L003_R1_001.fastq.gz\")\n",
    "r2_file = Path(\"/Users/milessmith/workspace/asap_o_matic/test/data1/test1_S1_L003_R2_001.fastq.gz\")\n",
    "r3_file = Path(\"/Users/milessmith/workspace/asap_o_matic/test/data1/test1_S1_L003_R3_001.fastq.gz\")"
   ]
  },
  {
   "cell_type": "code",
   "execution_count": 4,
   "id": "dd636869-4a2a-4950-8a76-b75c8ffe94d0",
   "metadata": {
    "tags": []
   },
   "outputs": [],
   "source": [
    "from dataclasses import dataclass"
   ]
  },
  {
   "cell_type": "code",
   "execution_count": null,
   "id": "2a07cb33-3fe9-46b5-986e-85fa63cc3e4e",
   "metadata": {},
   "outputs": [],
   "source": [
    "@dataclass\n",
    "class FastqLine:\n",
    "    head: str\n",
    "    seq: str\n",
    "    strand: str\n",
    "    qual: str\n",
    "    \n",
    "\n",
    "@dataclass\n",
    "class FastqFile:\n",
    "    source_file: Path | None = None\n",
    "\n",
    "    def __next__(self):\n",
    "        if self._last_position is None:\n",
    "            index = 0\n",
    "        else:\n",
    "            index = gates_list.index(self._last_position) + 1\n",
    "\n",
    "        if index < len(self):\n",
    "            self._last_position = gates_list[index]\n",
    "            return self.gates[gates_list[index]]\n",
    "        else:\n",
    "            raise StopIteration\n",
    "\n",
    "    def __iter__(self):\n",
    "        return iter(self.gates)"
   ]
  }
 ],
 "metadata": {
  "kernelspec": {
   "display_name": "Python 3 (ipykernel)",
   "language": "python",
   "name": "python3"
  },
  "language_info": {
   "codemirror_mode": {
    "name": "ipython",
    "version": 3
   },
   "file_extension": ".py",
   "mimetype": "text/x-python",
   "name": "python",
   "nbconvert_exporter": "python",
   "pygments_lexer": "ipython3",
   "version": "3.10.9"
  }
 },
 "nbformat": 4,
 "nbformat_minor": 5
}
